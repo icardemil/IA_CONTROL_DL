{
  "nbformat": 4,
  "nbformat_minor": 0,
  "metadata": {
    "colab": {
      "name": "IMDB_1.ipynb",
      "provenance": [],
      "authorship_tag": "ABX9TyOVH2g2OUa7ebr1QsppqaFu",
      "include_colab_link": true
    },
    "kernelspec": {
      "name": "python3",
      "display_name": "Python 3"
    },
    "language_info": {
      "name": "python"
    }
  },
  "cells": [
    {
      "cell_type": "markdown",
      "metadata": {
        "id": "view-in-github",
        "colab_type": "text"
      },
      "source": [
        "<a href=\"https://colab.research.google.com/github/icardemil64/IA_CONTROL_DL/blob/main/IMDB_1.ipynb\" target=\"_parent\"><img src=\"https://colab.research.google.com/assets/colab-badge.svg\" alt=\"Open In Colab\"/></a>"
      ]
    },
    {
      "cell_type": "markdown",
      "metadata": {
        "id": "68myL5L2nTbY"
      },
      "source": [
        "#Importar librería"
      ]
    },
    {
      "cell_type": "code",
      "metadata": {
        "colab": {
          "base_uri": "https://localhost:8080/"
        },
        "id": "4RnYB4rE5Mmw",
        "outputId": "9476638a-66f0-4768-9529-7526fc794d9c"
      },
      "source": [
        "import keras\n",
        "import numpy as np\n",
        "import pandas as pd\n",
        "import tensorflow as tf\n",
        "print(\"Tensorflow: \" + tf.__version__)"
      ],
      "execution_count": 1,
      "outputs": [
        {
          "output_type": "stream",
          "text": [
            "Tensorflow: 2.5.0\n"
          ],
          "name": "stdout"
        }
      ]
    },
    {
      "cell_type": "markdown",
      "metadata": {
        "id": "w3oCS7Vxnd0N"
      },
      "source": [
        "#Importar datos"
      ]
    },
    {
      "cell_type": "code",
      "metadata": {
        "colab": {
          "base_uri": "https://localhost:8080/"
        },
        "id": "w4lAi3y1ngwM",
        "outputId": "1661dbd2-34e1-4ac4-f8a1-a556a6085e21"
      },
      "source": [
        "from keras.datasets import imdb\n",
        "(train_data,train_labels),(test_data,test_labels) = imdb.load_data(num_words=10000)"
      ],
      "execution_count": 2,
      "outputs": [
        {
          "output_type": "stream",
          "text": [
            "Downloading data from https://storage.googleapis.com/tensorflow/tf-keras-datasets/imdb.npz\n",
            "17465344/17464789 [==============================] - 0s 0us/step\n",
            "17473536/17464789 [==============================] - 0s 0us/step\n"
          ],
          "name": "stdout"
        },
        {
          "output_type": "stream",
          "text": [
            "<string>:6: VisibleDeprecationWarning: Creating an ndarray from ragged nested sequences (which is a list-or-tuple of lists-or-tuples-or ndarrays with different lengths or shapes) is deprecated. If you meant to do this, you must specify 'dtype=object' when creating the ndarray\n",
            "/usr/local/lib/python3.7/dist-packages/keras/datasets/imdb.py:155: VisibleDeprecationWarning: Creating an ndarray from ragged nested sequences (which is a list-or-tuple of lists-or-tuples-or ndarrays with different lengths or shapes) is deprecated. If you meant to do this, you must specify 'dtype=object' when creating the ndarray\n",
            "  x_train, y_train = np.array(xs[:idx]), np.array(labels[:idx])\n",
            "/usr/local/lib/python3.7/dist-packages/keras/datasets/imdb.py:156: VisibleDeprecationWarning: Creating an ndarray from ragged nested sequences (which is a list-or-tuple of lists-or-tuples-or ndarrays with different lengths or shapes) is deprecated. If you meant to do this, you must specify 'dtype=object' when creating the ndarray\n",
            "  x_test, y_test = np.array(xs[idx:]), np.array(labels[idx:])\n"
          ],
          "name": "stderr"
        }
      ]
    },
    {
      "cell_type": "code",
      "metadata": {
        "colab": {
          "base_uri": "https://localhost:8080/"
        },
        "id": "qchTRry6oerm",
        "outputId": "5e3d9866-35e6-4523-a316-ca7a29018abd"
      },
      "source": [
        "word_index = imdb.get_word_index()"
      ],
      "execution_count": 3,
      "outputs": [
        {
          "output_type": "stream",
          "text": [
            "Downloading data from https://storage.googleapis.com/tensorflow/tf-keras-datasets/imdb_word_index.json\n",
            "1646592/1641221 [==============================] - 0s 0us/step\n",
            "1654784/1641221 [==============================] - 0s 0us/step\n"
          ],
          "name": "stdout"
        }
      ]
    },
    {
      "cell_type": "code",
      "metadata": {
        "id": "z_MuY3Nrs9A-"
      },
      "source": [
        "reverse_word_index = dict([(value,key) for (key,value) in word_index.items()])"
      ],
      "execution_count": 4,
      "outputs": []
    },
    {
      "cell_type": "code",
      "metadata": {
        "colab": {
          "base_uri": "https://localhost:8080/",
          "height": 120
        },
        "id": "974L6ug5tKaZ",
        "outputId": "da35200e-8667-425b-ed3a-0f9c0521d182"
      },
      "source": [
        "decode_review = ' '.join(\n",
        "    [reverse_word_index.get(i - 3,'?') for i in train_data[0]]\n",
        ")\n",
        "decode_review"
      ],
      "execution_count": 5,
      "outputs": [
        {
          "output_type": "execute_result",
          "data": {
            "application/vnd.google.colaboratory.intrinsic+json": {
              "type": "string"
            },
            "text/plain": [
              "\"? this film was just brilliant casting location scenery story direction everyone's really suited the part they played and you could just imagine being there robert ? is an amazing actor and now the same being director ? father came from the same scottish island as myself so i loved the fact there was a real connection with this film the witty remarks throughout the film were great it was just brilliant so much that i bought the film as soon as it was released for ? and would recommend it to everyone to watch and the fly fishing was amazing really cried at the end it was so sad and you know what they say if you cry at a film it must have been good and this definitely was also ? to the two little boy's that played the ? of norman and paul they were just brilliant children are often left out of the ? list i think because the stars that play them all grown up are such a big profile for the whole film but these children are amazing and should be praised for what they have done don't you think the whole story was so lovely because it was true and was someone's life after all that was shared with us all\""
            ]
          },
          "metadata": {
            "tags": []
          },
          "execution_count": 5
        }
      ]
    },
    {
      "cell_type": "markdown",
      "metadata": {
        "id": "eifSugARv1YB"
      },
      "source": [
        "#Preprocesado de datos"
      ]
    },
    {
      "cell_type": "code",
      "metadata": {
        "id": "thTYmrexwHb2"
      },
      "source": [
        "def vectorize(seq, dim = 10000):\n",
        "  results = np.zeros((len(seq), dim))\n",
        "  for i, seq in enumerate(seq):\n",
        "    results[i,seq] = 1\n",
        "  return results"
      ],
      "execution_count": 6,
      "outputs": []
    },
    {
      "cell_type": "code",
      "metadata": {
        "id": "aKVng1NZwnoZ"
      },
      "source": [
        "x_train = vectorize(train_data)\n",
        "x_test = vectorize(test_data)"
      ],
      "execution_count": 7,
      "outputs": []
    },
    {
      "cell_type": "code",
      "metadata": {
        "id": "sTyAUqVo-f8w"
      },
      "source": [
        "y_train = np.asarray(train_labels).astype('float32')\n",
        "y_test = np.asarray(test_labels).astype('float32')"
      ],
      "execution_count": 8,
      "outputs": []
    },
    {
      "cell_type": "markdown",
      "metadata": {
        "id": "J9jv5nSvxOmB"
      },
      "source": [
        "#Crear modelo"
      ]
    },
    {
      "cell_type": "code",
      "metadata": {
        "id": "D5JqNRadxQtC"
      },
      "source": [
        "from keras.models import Sequential\n",
        "from keras.layers import Dense"
      ],
      "execution_count": 9,
      "outputs": []
    },
    {
      "cell_type": "code",
      "metadata": {
        "id": "L0PwCZaMxaPF"
      },
      "source": [
        "model = Sequential()\n",
        "model.add(Dense(16, activation='relu', input_shape=(10000,)))\n",
        "model.add(Dense(16, activation='relu'))\n",
        "model.add(Dense(1,activation='sigmoid'))"
      ],
      "execution_count": 10,
      "outputs": []
    },
    {
      "cell_type": "code",
      "metadata": {
        "colab": {
          "base_uri": "https://localhost:8080/"
        },
        "id": "sZvDJCrfzFHk",
        "outputId": "d57e5850-2e3d-4d7c-a2cf-7a5e3c790942"
      },
      "source": [
        "model.summary()"
      ],
      "execution_count": 11,
      "outputs": [
        {
          "output_type": "stream",
          "text": [
            "Model: \"sequential\"\n",
            "_________________________________________________________________\n",
            "Layer (type)                 Output Shape              Param #   \n",
            "=================================================================\n",
            "dense (Dense)                (None, 16)                160016    \n",
            "_________________________________________________________________\n",
            "dense_1 (Dense)              (None, 16)                272       \n",
            "_________________________________________________________________\n",
            "dense_2 (Dense)              (None, 1)                 17        \n",
            "=================================================================\n",
            "Total params: 160,305\n",
            "Trainable params: 160,305\n",
            "Non-trainable params: 0\n",
            "_________________________________________________________________\n"
          ],
          "name": "stdout"
        }
      ]
    },
    {
      "cell_type": "code",
      "metadata": {
        "id": "HIZfPz9b1Bcl"
      },
      "source": [
        "model.compile(optimizer='adam', loss='binary_crossentropy', metrics=['accuracy'])"
      ],
      "execution_count": 12,
      "outputs": []
    },
    {
      "cell_type": "code",
      "metadata": {
        "id": "dOtHtIv81RXt"
      },
      "source": [
        "x_val = x_train[:10000]\n",
        "x_trn = x_train[10000:]\n",
        "y_val = y_train[:10000]\n",
        "y_trn = y_train[10000:]"
      ],
      "execution_count": 13,
      "outputs": []
    },
    {
      "cell_type": "code",
      "metadata": {
        "colab": {
          "base_uri": "https://localhost:8080/"
        },
        "id": "LT9JGE6g-r90",
        "outputId": "5df1313a-85de-4f1d-8cc9-9b260b6fd2c0"
      },
      "source": [
        "history = model.fit(x_trn,y_trn,epochs=10,batch_size=512,validation_data=(x_val,y_val))"
      ],
      "execution_count": 34,
      "outputs": [
        {
          "output_type": "stream",
          "text": [
            "Epoch 1/10\n",
            "30/30 [==============================] - 19s 112ms/step - loss: 0.6301 - accuracy: 0.6672 - val_loss: 0.4036 - val_accuracy: 0.8579\n",
            "Epoch 2/10\n",
            "30/30 [==============================] - 1s 31ms/step - loss: 0.3282 - accuracy: 0.8906 - val_loss: 0.2935 - val_accuracy: 0.8885\n",
            "Epoch 3/10\n",
            "30/30 [==============================] - 1s 31ms/step - loss: 0.2097 - accuracy: 0.9298 - val_loss: 0.2755 - val_accuracy: 0.8901\n",
            "Epoch 4/10\n",
            "30/30 [==============================] - 1s 31ms/step - loss: 0.1485 - accuracy: 0.9559 - val_loss: 0.2823 - val_accuracy: 0.8874\n",
            "Epoch 5/10\n",
            "30/30 [==============================] - 1s 31ms/step - loss: 0.1099 - accuracy: 0.9707 - val_loss: 0.3007 - val_accuracy: 0.8844\n",
            "Epoch 6/10\n",
            "30/30 [==============================] - 1s 32ms/step - loss: 0.0830 - accuracy: 0.9805 - val_loss: 0.3255 - val_accuracy: 0.8817\n",
            "Epoch 7/10\n",
            "30/30 [==============================] - 1s 31ms/step - loss: 0.0622 - accuracy: 0.9885 - val_loss: 0.3545 - val_accuracy: 0.8802\n",
            "Epoch 8/10\n",
            "30/30 [==============================] - 1s 31ms/step - loss: 0.0453 - accuracy: 0.9930 - val_loss: 0.3877 - val_accuracy: 0.8799\n",
            "Epoch 9/10\n",
            "30/30 [==============================] - 1s 31ms/step - loss: 0.0337 - accuracy: 0.9957 - val_loss: 0.4195 - val_accuracy: 0.8740\n",
            "Epoch 10/10\n",
            "30/30 [==============================] - 1s 31ms/step - loss: 0.0250 - accuracy: 0.9974 - val_loss: 0.4525 - val_accuracy: 0.8735\n"
          ],
          "name": "stdout"
        }
      ]
    },
    {
      "cell_type": "code",
      "metadata": {
        "colab": {
          "base_uri": "https://localhost:8080/"
        },
        "id": "OR9Q_wy8Ao5C",
        "outputId": "fba7af54-89ee-4abe-f36f-4bc91ec2b266"
      },
      "source": [
        "result = model.evaluate(x_test,y_test)"
      ],
      "execution_count": 36,
      "outputs": [
        {
          "output_type": "stream",
          "text": [
            "782/782 [==============================] - 1s 2ms/step - loss: 0.4900 - accuracy: 0.8611\n"
          ],
          "name": "stdout"
        }
      ]
    },
    {
      "cell_type": "code",
      "metadata": {
        "colab": {
          "base_uri": "https://localhost:8080/"
        },
        "id": "cceVxB3EAa-K",
        "outputId": "206d2889-e90e-4b7e-fd7f-4dd74946daf5"
      },
      "source": [
        "history_dict = history.history\n",
        "history_dict.keys()"
      ],
      "execution_count": 35,
      "outputs": [
        {
          "output_type": "execute_result",
          "data": {
            "text/plain": [
              "dict_keys(['loss', 'accuracy', 'val_loss', 'val_accuracy'])"
            ]
          },
          "metadata": {
            "tags": []
          },
          "execution_count": 35
        }
      ]
    },
    {
      "cell_type": "code",
      "metadata": {
        "colab": {
          "base_uri": "https://localhost:8080/",
          "height": 295
        },
        "id": "qYdeK8Y9A1YB",
        "outputId": "5e3281ed-19d4-40b7-800d-2579291ecec1"
      },
      "source": [
        "import matplotlib.pyplot as plt\n",
        "\n",
        "plt.clf()\n",
        "history_dict = history.history\n",
        "loss_values = history_dict['loss']\n",
        "val_loss_values = history_dict['val_loss']\n",
        "epochs = range(1, (len(history_dict['loss']) + 1))\n",
        "plt.plot(epochs, loss_values, 'bo', label='Training loss')\n",
        "plt.plot(epochs, val_loss_values, 'b', label='Validation loss')\n",
        "plt.title('Training and validation loss')\n",
        "plt.xlabel('Epochs')\n",
        "plt.ylabel('Loss')\n",
        "plt.legend()\n",
        "plt.show()"
      ],
      "execution_count": 37,
      "outputs": [
        {
          "output_type": "display_data",
          "data": {
            "image/png": "[encoded data removed]",
            "text/plain": [
              "<Figure size 432x288 with 1 Axes>"
            ]
          },
          "metadata": {
            "tags": [],
            "needs_background": "light"
          }
        }
      ]
    },
    {
      "cell_type": "code",
      "metadata": {
        "colab": {
          "base_uri": "https://localhost:8080/",
          "height": 295
        },
        "id": "Dhk_YSq-BPuR",
        "outputId": "f93fd308-c08f-42af-fe79-70016833a349"
      },
      "source": [
        "plt.clf()\n",
        "acc_values = history_dict['accuracy']\n",
        "val_acc_values = history_dict['val_accuracy']\n",
        "epochs = range(1, (len(history_dict['accuracy']) + 1))\n",
        "plt.plot(epochs, acc_values, 'bo', label='Training acc')\n",
        "plt.plot(epochs, val_acc_values, 'b', label='Validation acc')\n",
        "plt.title('Training and validation accuracy')\n",
        "plt.xlabel('Epochs')\n",
        "plt.ylabel('Accuracy')\n",
        "plt.legend()\n",
        "plt.show()"
      ],
      "execution_count": 38,
      "outputs": [
        {
          "output_type": "display_data",
          "data": {
            "image/png": "[encoded data removed]",
            "text/plain": [
              "<Figure size 432x288 with 1 Axes>"
            ]
          },
          "metadata": {
            "tags": [],
            "needs_background": "light"
          }
        }
      ]
    },
    {
      "cell_type": "markdown",
      "metadata": {
        "id": "0SXGeyO3DjZv"
      },
      "source": [
        "#Early Stopping"
      ]
    },
    {
      "cell_type": "code",
      "metadata": {
        "id": "JDeJbXQRErjn"
      },
      "source": [
        "from tensorflow.keras.callbacks import EarlyStopping"
      ],
      "execution_count": 14,
      "outputs": []
    },
    {
      "cell_type": "code",
      "metadata": {
        "id": "lkfEeOv5ErGI"
      },
      "source": [
        "es = EarlyStopping(monitor='val_loss', mode='min', patience = 3, verbose=1)"
      ],
      "execution_count": 15,
      "outputs": []
    },
    {
      "cell_type": "code",
      "metadata": {
        "colab": {
          "base_uri": "https://localhost:8080/"
        },
        "id": "D3s9ulg0EGTz",
        "outputId": "64565e34-df18-46d4-a10a-c110c6f6182e"
      },
      "source": [
        "history_otra = model.fit(x_trn,y_trn,epochs=10,batch_size=512,validation_data=(x_val,y_val),callbacks=[es])"
      ],
      "execution_count": 16,
      "outputs": [
        {
          "output_type": "stream",
          "text": [
            "Epoch 1/10\n",
            "30/30 [==============================] - 16s 58ms/step - loss: 0.6661 - accuracy: 0.6354 - val_loss: 0.5065 - val_accuracy: 0.8462\n",
            "Epoch 2/10\n",
            "30/30 [==============================] - 1s 34ms/step - loss: 0.4347 - accuracy: 0.8734 - val_loss: 0.3368 - val_accuracy: 0.8772\n",
            "Epoch 3/10\n",
            "30/30 [==============================] - 1s 34ms/step - loss: 0.2628 - accuracy: 0.9169 - val_loss: 0.2819 - val_accuracy: 0.8902\n",
            "Epoch 4/10\n",
            "30/30 [==============================] - 1s 34ms/step - loss: 0.1824 - accuracy: 0.9414 - val_loss: 0.2751 - val_accuracy: 0.8899\n",
            "Epoch 5/10\n",
            "30/30 [==============================] - 1s 34ms/step - loss: 0.1375 - accuracy: 0.9610 - val_loss: 0.2864 - val_accuracy: 0.8865\n",
            "Epoch 6/10\n",
            "30/30 [==============================] - 1s 34ms/step - loss: 0.1123 - accuracy: 0.9679 - val_loss: 0.2993 - val_accuracy: 0.8832\n",
            "Epoch 7/10\n",
            "30/30 [==============================] - 1s 34ms/step - loss: 0.0837 - accuracy: 0.9806 - val_loss: 0.3224 - val_accuracy: 0.8819\n",
            "Epoch 00007: early stopping\n"
          ],
          "name": "stdout"
        }
      ]
    },
    {
      "cell_type": "code",
      "metadata": {
        "colab": {
          "base_uri": "https://localhost:8080/"
        },
        "id": "l1qrrzSZFrJM",
        "outputId": "b435dff5-46ee-4346-fd97-1112487f2fc9"
      },
      "source": [
        "result = model.evaluate(x_test,y_test)"
      ],
      "execution_count": 17,
      "outputs": [
        {
          "output_type": "stream",
          "text": [
            "782/782 [==============================] - 2s 2ms/step - loss: 0.3451 - accuracy: 0.8720\n"
          ],
          "name": "stdout"
        }
      ]
    },
    {
      "cell_type": "code",
      "metadata": {
        "colab": {
          "base_uri": "https://localhost:8080/"
        },
        "id": "vMjjWRDBHQS_",
        "outputId": "0b05b868-f573-4616-971c-2320a999f5ba"
      },
      "source": [
        "history_dict = history_otra.history\n",
        "history_dict.keys()"
      ],
      "execution_count": 18,
      "outputs": [
        {
          "output_type": "execute_result",
          "data": {
            "text/plain": [
              "dict_keys(['loss', 'accuracy', 'val_loss', 'val_accuracy'])"
            ]
          },
          "metadata": {
            "tags": []
          },
          "execution_count": 18
        }
      ]
    },
    {
      "cell_type": "code",
      "metadata": {
        "colab": {
          "base_uri": "https://localhost:8080/",
          "height": 295
        },
        "id": "DEf1IwMtHVKp",
        "outputId": "72e7be74-5f99-449c-e9c5-d79f1534027d"
      },
      "source": [
        "import matplotlib.pyplot as plt\n",
        "\n",
        "plt.clf()\n",
        "history_dict = history_otra.history\n",
        "loss_values = history_dict['loss']\n",
        "val_loss_values = history_dict['val_loss']\n",
        "epochs = range(1, (len(history_dict['loss']) + 1))\n",
        "plt.plot(epochs, loss_values, 'bo', label='Training loss')\n",
        "plt.plot(epochs, val_loss_values, 'b', label='Validation loss')\n",
        "plt.title('Training and validation loss')\n",
        "plt.xlabel('Epochs')\n",
        "plt.ylabel('Loss')\n",
        "plt.legend()\n",
        "plt.show()"
      ],
      "execution_count": 20,
      "outputs": [
        {
          "output_type": "display_data",
          "data": {
            "image/png": "[encoded data removed]",
            "text/plain": [
              "<Figure size 432x288 with 1 Axes>"
            ]
          },
          "metadata": {
            "tags": [],
            "needs_background": "light"
          }
        }
      ]
    },
    {
      "cell_type": "code",
      "metadata": {
        "colab": {
          "base_uri": "https://localhost:8080/",
          "height": 295
        },
        "id": "aXqiCmphHd8s",
        "outputId": "138912f7-dc31-445b-b2dc-66a7b12b626a"
      },
      "source": [
        "plt.clf()\n",
        "acc_values = history_dict['accuracy']\n",
        "val_acc_values = history_dict['val_accuracy']\n",
        "epochs = range(1, (len(history_dict['accuracy']) + 1))\n",
        "plt.plot(epochs, acc_values, 'bo', label='Training acc')\n",
        "plt.plot(epochs, val_acc_values, 'b', label='Validation acc')\n",
        "plt.title('Training and validation accuracy')\n",
        "plt.xlabel('Epochs')\n",
        "plt.ylabel('Accuracy')\n",
        "plt.legend()\n",
        "plt.show()"
      ],
      "execution_count": 21,
      "outputs": [
        {
          "output_type": "display_data",
          "data": {
            "image/png": "[encoded data removed]",
            "text/plain": [
              "<Figure size 432x288 with 1 Axes>"
            ]
          },
          "metadata": {
            "tags": [],
            "needs_background": "light"
          }
        }
      ]
    }
  ]
}