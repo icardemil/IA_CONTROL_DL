{
  "nbformat": 4,
  "nbformat_minor": 0,
  "metadata": {
    "colab": {
      "name": "IMDB_2.ipynb",
      "provenance": [],
      "authorship_tag": "ABX9TyOr/7JMnRFT4XoOBEzB6Do0",
      "include_colab_link": true
    },
    "kernelspec": {
      "name": "python3",
      "display_name": "Python 3"
    },
    "language_info": {
      "name": "python"
    }
  },
  "cells": [
    {
      "cell_type": "markdown",
      "metadata": {
        "id": "view-in-github",
        "colab_type": "text"
      },
      "source": [
        "<a href=\"https://colab.research.google.com/github/icardemil64/IA_CONTROL_DL/blob/main/IMDB_2.ipynb\" target=\"_parent\"><img src=\"https://colab.research.google.com/assets/colab-badge.svg\" alt=\"Open In Colab\"/></a>"
      ]
    },
    {
      "cell_type": "markdown",
      "metadata": {
        "id": "PJY7sm6VJhCz"
      },
      "source": [
        "#Importar librerías"
      ]
    },
    {
      "cell_type": "code",
      "metadata": {
        "colab": {
          "base_uri": "https://localhost:8080/"
        },
        "id": "H7VpShIgIJZn",
        "outputId": "f81387d1-ffc8-4482-c5ed-cad7d5cf959c"
      },
      "source": [
        "import keras\n",
        "import numpy as np\n",
        "import pandas as pd\n",
        "import tensorflow as tf\n",
        "print(\"Tensorflow: \" + tf.__version__)"
      ],
      "execution_count": 2,
      "outputs": [
        {
          "output_type": "stream",
          "text": [
            "Tensorflow: 2.5.0\n"
          ],
          "name": "stdout"
        }
      ]
    },
    {
      "cell_type": "markdown",
      "metadata": {
        "id": "SdRQNFqIJmKB"
      },
      "source": [
        "#Importar datos"
      ]
    },
    {
      "cell_type": "code",
      "metadata": {
        "colab": {
          "base_uri": "https://localhost:8080/"
        },
        "id": "8UNFUSDgJng3",
        "outputId": "d55f8f26-26cf-4633-804e-1772ec0c5051"
      },
      "source": [
        "from keras.datasets import imdb\n",
        "(train_data,train_labels),(test_data,test_labels) = imdb.load_data(num_words=10000)"
      ],
      "execution_count": 3,
      "outputs": [
        {
          "output_type": "stream",
          "text": [
            "<string>:6: VisibleDeprecationWarning: Creating an ndarray from ragged nested sequences (which is a list-or-tuple of lists-or-tuples-or ndarrays with different lengths or shapes) is deprecated. If you meant to do this, you must specify 'dtype=object' when creating the ndarray\n",
            "/usr/local/lib/python3.7/dist-packages/keras/datasets/imdb.py:155: VisibleDeprecationWarning: Creating an ndarray from ragged nested sequences (which is a list-or-tuple of lists-or-tuples-or ndarrays with different lengths or shapes) is deprecated. If you meant to do this, you must specify 'dtype=object' when creating the ndarray\n",
            "  x_train, y_train = np.array(xs[:idx]), np.array(labels[:idx])\n",
            "/usr/local/lib/python3.7/dist-packages/keras/datasets/imdb.py:156: VisibleDeprecationWarning: Creating an ndarray from ragged nested sequences (which is a list-or-tuple of lists-or-tuples-or ndarrays with different lengths or shapes) is deprecated. If you meant to do this, you must specify 'dtype=object' when creating the ndarray\n",
            "  x_test, y_test = np.array(xs[idx:]), np.array(labels[idx:])\n"
          ],
          "name": "stderr"
        }
      ]
    },
    {
      "cell_type": "code",
      "metadata": {
        "id": "cg_MVNuRJzsh"
      },
      "source": [
        "word_index = imdb.get_word_index()"
      ],
      "execution_count": 4,
      "outputs": []
    },
    {
      "cell_type": "code",
      "metadata": {
        "id": "F1ctFQ9aJ22S"
      },
      "source": [
        "reverse_word_index = dict([(value,key) for (key,value) in word_index.items()])"
      ],
      "execution_count": 5,
      "outputs": []
    },
    {
      "cell_type": "code",
      "metadata": {
        "colab": {
          "base_uri": "https://localhost:8080/",
          "height": 120
        },
        "id": "ZfFnPWYlJ33v",
        "outputId": "6ff3ff57-0700-4219-c436-8c66a34b63e7"
      },
      "source": [
        "decode_review = ' '.join(\n",
        "    [reverse_word_index.get(i - 3,'?') for i in train_data[0]]\n",
        ")\n",
        "decode_review"
      ],
      "execution_count": 6,
      "outputs": [
        {
          "output_type": "execute_result",
          "data": {
            "application/vnd.google.colaboratory.intrinsic+json": {
              "type": "string"
            },
            "text/plain": [
              "\"? this film was just brilliant casting location scenery story direction everyone's really suited the part they played and you could just imagine being there robert ? is an amazing actor and now the same being director ? father came from the same scottish island as myself so i loved the fact there was a real connection with this film the witty remarks throughout the film were great it was just brilliant so much that i bought the film as soon as it was released for ? and would recommend it to everyone to watch and the fly fishing was amazing really cried at the end it was so sad and you know what they say if you cry at a film it must have been good and this definitely was also ? to the two little boy's that played the ? of norman and paul they were just brilliant children are often left out of the ? list i think because the stars that play them all grown up are such a big profile for the whole film but these children are amazing and should be praised for what they have done don't you think the whole story was so lovely because it was true and was someone's life after all that was shared with us all\""
            ]
          },
          "metadata": {
            "tags": []
          },
          "execution_count": 6
        }
      ]
    },
    {
      "cell_type": "markdown",
      "metadata": {
        "id": "qtYkgOlVJ68j"
      },
      "source": [
        "# Preprocesado de datos"
      ]
    },
    {
      "cell_type": "code",
      "metadata": {
        "id": "JOtgHxgBJ9oR"
      },
      "source": [
        "def vectorize(seq, dim = 10000):\n",
        "  results = np.zeros((len(seq), dim))\n",
        "  for i, seq in enumerate(seq):\n",
        "    results[i,seq] = 1\n",
        "  return results"
      ],
      "execution_count": 7,
      "outputs": []
    },
    {
      "cell_type": "code",
      "metadata": {
        "id": "KHBP5vVfJ_3z"
      },
      "source": [
        "x_train = vectorize(train_data)\n",
        "x_test = vectorize(test_data)"
      ],
      "execution_count": 8,
      "outputs": []
    },
    {
      "cell_type": "code",
      "metadata": {
        "id": "np3Rk42wKB_5"
      },
      "source": [
        "y_train = np.asarray(train_labels).astype('float32')\n",
        "y_test = np.asarray(test_labels).astype('float32')"
      ],
      "execution_count": 9,
      "outputs": []
    },
    {
      "cell_type": "markdown",
      "metadata": {
        "id": "tVmU-Q5LKEpU"
      },
      "source": [
        "#Crear modelos"
      ]
    },
    {
      "cell_type": "code",
      "metadata": {
        "id": "oQr4cbMIONGO"
      },
      "source": [
        "from keras.models import Sequential\n",
        "from keras.layers import Dense\n",
        "from keras import regularizers"
      ],
      "execution_count": 10,
      "outputs": []
    },
    {
      "cell_type": "code",
      "metadata": {
        "id": "pjnfaKh0OqIH"
      },
      "source": [
        "x_val = x_train[:10000]\n",
        "x_trn = x_train[10000:]\n",
        "y_val = y_train[:10000]\n",
        "y_trn = y_train[10000:]"
      ],
      "execution_count": 11,
      "outputs": []
    },
    {
      "cell_type": "markdown",
      "metadata": {
        "id": "S3luigF6OGNE"
      },
      "source": [
        "##Modelo original"
      ]
    },
    {
      "cell_type": "code",
      "metadata": {
        "id": "xegHWBGNMPzC"
      },
      "source": [
        "model = Sequential()\n",
        "model.add(Dense(16, activation='relu', input_shape=(10000,)))\n",
        "model.add(Dense(16, activation='relu'))\n",
        "model.add(Dense(1, activation='sigmoid'))"
      ],
      "execution_count": 12,
      "outputs": []
    },
    {
      "cell_type": "code",
      "metadata": {
        "id": "yUCZilvNOkv7"
      },
      "source": [
        "model.compile(optimizer='adam', loss='binary_crossentropy', metrics=['accuracy'])"
      ],
      "execution_count": 13,
      "outputs": []
    },
    {
      "cell_type": "code",
      "metadata": {
        "colab": {
          "base_uri": "https://localhost:8080/"
        },
        "id": "NmKJ1-oVOuob",
        "outputId": "7b9b3419-a7de-4ada-e721-433d9645c79e"
      },
      "source": [
        "history_orig = model.fit(x_trn,y_trn,epochs=20,batch_size=512,validation_data=(x_val,y_val))"
      ],
      "execution_count": 14,
      "outputs": [
        {
          "output_type": "stream",
          "text": [
            "Epoch 1/20\n",
            "30/30 [==============================] - 17s 58ms/step - loss: 0.6427 - accuracy: 0.6861 - val_loss: 0.4378 - val_accuracy: 0.8554\n",
            "Epoch 2/20\n",
            "30/30 [==============================] - 1s 35ms/step - loss: 0.3662 - accuracy: 0.8870 - val_loss: 0.3102 - val_accuracy: 0.8820\n",
            "Epoch 3/20\n",
            "30/30 [==============================] - 1s 34ms/step - loss: 0.2334 - accuracy: 0.9210 - val_loss: 0.2782 - val_accuracy: 0.8903\n",
            "Epoch 4/20\n",
            "30/30 [==============================] - 1s 34ms/step - loss: 0.1652 - accuracy: 0.9503 - val_loss: 0.2776 - val_accuracy: 0.8886\n",
            "Epoch 5/20\n",
            "30/30 [==============================] - 1s 34ms/step - loss: 0.1235 - accuracy: 0.9664 - val_loss: 0.2906 - val_accuracy: 0.8858\n",
            "Epoch 6/20\n",
            "30/30 [==============================] - 1s 34ms/step - loss: 0.0959 - accuracy: 0.9752 - val_loss: 0.3090 - val_accuracy: 0.8845\n",
            "Epoch 7/20\n",
            "30/30 [==============================] - 1s 35ms/step - loss: 0.0744 - accuracy: 0.9826 - val_loss: 0.3329 - val_accuracy: 0.8812\n",
            "Epoch 8/20\n",
            "30/30 [==============================] - 1s 34ms/step - loss: 0.0569 - accuracy: 0.9889 - val_loss: 0.3599 - val_accuracy: 0.8778\n",
            "Epoch 9/20\n",
            "30/30 [==============================] - 1s 34ms/step - loss: 0.0445 - accuracy: 0.9940 - val_loss: 0.3881 - val_accuracy: 0.8787\n",
            "Epoch 10/20\n",
            "30/30 [==============================] - 1s 34ms/step - loss: 0.0335 - accuracy: 0.9957 - val_loss: 0.4216 - val_accuracy: 0.8769\n",
            "Epoch 11/20\n",
            "30/30 [==============================] - 1s 35ms/step - loss: 0.0257 - accuracy: 0.9978 - val_loss: 0.4489 - val_accuracy: 0.8732\n",
            "Epoch 12/20\n",
            "30/30 [==============================] - 1s 35ms/step - loss: 0.0204 - accuracy: 0.9983 - val_loss: 0.4810 - val_accuracy: 0.8730\n",
            "Epoch 13/20\n",
            "30/30 [==============================] - 1s 34ms/step - loss: 0.0160 - accuracy: 0.9994 - val_loss: 0.5095 - val_accuracy: 0.8707\n",
            "Epoch 14/20\n",
            "30/30 [==============================] - 1s 35ms/step - loss: 0.0121 - accuracy: 0.9996 - val_loss: 0.5351 - val_accuracy: 0.8705\n",
            "Epoch 15/20\n",
            "30/30 [==============================] - 1s 34ms/step - loss: 0.0098 - accuracy: 0.9999 - val_loss: 0.5614 - val_accuracy: 0.8688\n",
            "Epoch 16/20\n",
            "30/30 [==============================] - 1s 35ms/step - loss: 0.0082 - accuracy: 0.9999 - val_loss: 0.5836 - val_accuracy: 0.8695\n",
            "Epoch 17/20\n",
            "30/30 [==============================] - 1s 35ms/step - loss: 0.0067 - accuracy: 0.9999 - val_loss: 0.6037 - val_accuracy: 0.8686\n",
            "Epoch 18/20\n",
            "30/30 [==============================] - 1s 34ms/step - loss: 0.0056 - accuracy: 0.9999 - val_loss: 0.6244 - val_accuracy: 0.8680\n",
            "Epoch 19/20\n",
            "30/30 [==============================] - 1s 34ms/step - loss: 0.0050 - accuracy: 0.9997 - val_loss: 0.6434 - val_accuracy: 0.8677\n",
            "Epoch 20/20\n",
            "30/30 [==============================] - 1s 34ms/step - loss: 0.0041 - accuracy: 0.9999 - val_loss: 0.6617 - val_accuracy: 0.8674\n"
          ],
          "name": "stdout"
        }
      ]
    },
    {
      "cell_type": "code",
      "metadata": {
        "colab": {
          "base_uri": "https://localhost:8080/"
        },
        "id": "sIyx37FkPoht",
        "outputId": "2bc8d2be-cf20-49e8-aeb0-05d5e7ab1976"
      },
      "source": [
        "result = model.evaluate(x_test,y_test)"
      ],
      "execution_count": 15,
      "outputs": [
        {
          "output_type": "stream",
          "text": [
            "782/782 [==============================] - 2s 2ms/step - loss: 0.7119 - accuracy: 0.8563\n"
          ],
          "name": "stdout"
        }
      ]
    },
    {
      "cell_type": "markdown",
      "metadata": {
        "id": "OZwAPJuFOYLo"
      },
      "source": [
        "#Modelo con regularizador"
      ]
    },
    {
      "cell_type": "code",
      "metadata": {
        "id": "Uxnoeq3ZOaIe"
      },
      "source": [
        "model_reg = Sequential()\n",
        "model_reg.add(Dense(16, kernel_regularizer=regularizers.l2(0.01), activation='relu', input_shape=(10000,)))\n",
        "model_reg.add(Dense(16, kernel_regularizer=regularizers.l2(0.01), activation='relu'))\n",
        "model_reg.add(Dense(1, activation='sigmoid'))"
      ],
      "execution_count": 16,
      "outputs": []
    },
    {
      "cell_type": "code",
      "metadata": {
        "id": "9YMbttWwP7S9"
      },
      "source": [
        "model_reg.compile(optimizer='adam', loss='binary_crossentropy', metrics=['accuracy'])"
      ],
      "execution_count": 17,
      "outputs": []
    },
    {
      "cell_type": "code",
      "metadata": {
        "colab": {
          "base_uri": "https://localhost:8080/"
        },
        "id": "bmWSimCVP_qa",
        "outputId": "f167e468-7be6-4523-974f-54f9de8d9061"
      },
      "source": [
        "history_reg = model_reg.fit(x_trn,y_trn, epochs=20, batch_size=512, validation_data=(x_val, y_val))"
      ],
      "execution_count": 18,
      "outputs": [
        {
          "output_type": "stream",
          "text": [
            "Epoch 1/20\n",
            "30/30 [==============================] - 2s 50ms/step - loss: 0.9785 - accuracy: 0.6446 - val_loss: 0.6783 - val_accuracy: 0.8444\n",
            "Epoch 2/20\n",
            "30/30 [==============================] - 1s 36ms/step - loss: 0.6327 - accuracy: 0.8746 - val_loss: 0.5802 - val_accuracy: 0.8709\n",
            "Epoch 3/20\n",
            "30/30 [==============================] - 1s 35ms/step - loss: 0.5413 - accuracy: 0.8949 - val_loss: 0.5374 - val_accuracy: 0.8689\n",
            "Epoch 4/20\n",
            "30/30 [==============================] - 1s 35ms/step - loss: 0.4935 - accuracy: 0.8994 - val_loss: 0.5076 - val_accuracy: 0.8763\n",
            "Epoch 5/20\n",
            "30/30 [==============================] - 1s 35ms/step - loss: 0.4611 - accuracy: 0.9074 - val_loss: 0.4899 - val_accuracy: 0.8782\n",
            "Epoch 6/20\n",
            "30/30 [==============================] - 1s 36ms/step - loss: 0.4402 - accuracy: 0.9115 - val_loss: 0.4743 - val_accuracy: 0.8784\n",
            "Epoch 7/20\n",
            "30/30 [==============================] - 1s 36ms/step - loss: 0.4162 - accuracy: 0.9166 - val_loss: 0.4604 - val_accuracy: 0.8802\n",
            "Epoch 8/20\n",
            "30/30 [==============================] - 1s 35ms/step - loss: 0.4009 - accuracy: 0.9212 - val_loss: 0.4519 - val_accuracy: 0.8809\n",
            "Epoch 9/20\n",
            "30/30 [==============================] - 1s 35ms/step - loss: 0.3871 - accuracy: 0.9235 - val_loss: 0.4447 - val_accuracy: 0.8834\n",
            "Epoch 10/20\n",
            "30/30 [==============================] - 1s 35ms/step - loss: 0.3745 - accuracy: 0.9267 - val_loss: 0.4402 - val_accuracy: 0.8821\n",
            "Epoch 11/20\n",
            "30/30 [==============================] - 1s 35ms/step - loss: 0.3615 - accuracy: 0.9297 - val_loss: 0.4355 - val_accuracy: 0.8821\n",
            "Epoch 12/20\n",
            "30/30 [==============================] - 1s 36ms/step - loss: 0.3542 - accuracy: 0.9319 - val_loss: 0.4310 - val_accuracy: 0.8827\n",
            "Epoch 13/20\n",
            "30/30 [==============================] - 1s 35ms/step - loss: 0.3482 - accuracy: 0.9331 - val_loss: 0.4285 - val_accuracy: 0.8819\n",
            "Epoch 14/20\n",
            "30/30 [==============================] - 1s 35ms/step - loss: 0.3430 - accuracy: 0.9347 - val_loss: 0.4264 - val_accuracy: 0.8811\n",
            "Epoch 15/20\n",
            "30/30 [==============================] - 1s 35ms/step - loss: 0.3316 - accuracy: 0.9399 - val_loss: 0.4261 - val_accuracy: 0.8822\n",
            "Epoch 16/20\n",
            "30/30 [==============================] - 1s 35ms/step - loss: 0.3312 - accuracy: 0.9394 - val_loss: 0.4231 - val_accuracy: 0.8816\n",
            "Epoch 17/20\n",
            "30/30 [==============================] - 1s 35ms/step - loss: 0.3268 - accuracy: 0.9393 - val_loss: 0.4216 - val_accuracy: 0.8805\n",
            "Epoch 18/20\n",
            "30/30 [==============================] - 1s 35ms/step - loss: 0.3198 - accuracy: 0.9440 - val_loss: 0.4182 - val_accuracy: 0.8821\n",
            "Epoch 19/20\n",
            "30/30 [==============================] - 1s 35ms/step - loss: 0.3125 - accuracy: 0.9467 - val_loss: 0.4210 - val_accuracy: 0.8793\n",
            "Epoch 20/20\n",
            "30/30 [==============================] - 1s 35ms/step - loss: 0.3191 - accuracy: 0.9409 - val_loss: 0.4197 - val_accuracy: 0.8786\n"
          ],
          "name": "stdout"
        }
      ]
    },
    {
      "cell_type": "code",
      "metadata": {
        "colab": {
          "base_uri": "https://localhost:8080/"
        },
        "id": "bCDyZmsvU7Jl",
        "outputId": "cf5165e8-dcd7-41d4-fa28-121813b69250"
      },
      "source": [
        "result_reg = model.evaluate(x_test,y_test)"
      ],
      "execution_count": 19,
      "outputs": [
        {
          "output_type": "stream",
          "text": [
            "782/782 [==============================] - 2s 2ms/step - loss: 0.7119 - accuracy: 0.8563\n"
          ],
          "name": "stdout"
        }
      ]
    },
    {
      "cell_type": "code",
      "metadata": {
        "colab": {
          "base_uri": "https://localhost:8080/",
          "height": 312
        },
        "id": "MDsrIwwjVd6d",
        "outputId": "470e237b-6232-4a86-920d-3e360553bdf3"
      },
      "source": [
        "import matplotlib.pyplot as plt\n",
        "\n",
        "plt.clf()\n",
        "#history_orig = history_orig.history\n",
        "#history_reg = history_reg.history\n",
        "origi_val_loss_values = history_orig.history['val_loss']\n",
        "regul_val_loss_values = history_reg.history['val_loss']\n",
        "epochs = range(1, (len(history_orig.history['loss']) + 1))\n",
        "plt.plot(epochs, origi_val_loss_values, 'bo', label='Original loss')\n",
        "plt.plot(epochs, regul_val_loss_values, 'ro' , label='L2-regularized loss')\n",
        "plt.title('Original and L2-regularized Models')\n",
        "plt.xlabel('Epochs')\n",
        "plt.ylabel('Validation loss')\n",
        "plt.legend()"
      ],
      "execution_count": 20,
      "outputs": [
        {
          "output_type": "execute_result",
          "data": {
            "text/plain": [
              "<matplotlib.legend.Legend at 0x7f411126ff10>"
            ]
          },
          "metadata": {
            "tags": []
          },
          "execution_count": 20
        },
        {
          "output_type": "display_data",
          "data": {
            "image/png": "[encoded data removed]",
            "text/plain": [
              "<Figure size 432x288 with 1 Axes>"
            ]
          },
          "metadata": {
            "tags": [],
            "needs_background": "light"
          }
        }
      ]
    },
    {
      "cell_type": "markdown",
      "metadata": {
        "id": "oBIXNgEfWvSs"
      },
      "source": [
        "#No funciona 😔"
      ]
    }
  ]
}